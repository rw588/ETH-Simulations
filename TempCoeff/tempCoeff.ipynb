{
 "cells": [
  {
   "cell_type": "code",
   "execution_count": 94,
   "metadata": {},
   "outputs": [],
   "source": [
    "import numpy as np\n",
    "import matplotlib.pyplot as plt\n",
    "import scipy.integrate as integrate\n",
    "from scipy.interpolate import interp1d\n",
    "import pandas as pd"
   ]
  },
  {
   "cell_type": "code",
   "execution_count": null,
   "metadata": {},
   "outputs": [],
   "source": [
    "def cte_expand(a, b, c, d, e, f, g, h, i, temp):\n",
    "    power_int = np.array([a, b, c, d, e, f, g, h, i])\n",
    "    T = np.array(temp)\n",
    "    l = np.log10(T)\n",
    "    power = np.zeros(len(T))\n",
    "    for p, i in enumerate(power_int):\n",
    "        power += i * 1e-6 * l**p\n",
    "\n",
    "    print(power)\n",
    "\n",
    "    return 10**power"
   ]
  },
  {
   "cell_type": "code",
   "execution_count": null,
   "metadata": {},
   "outputs": [],
   "source": [
    "temps = np.linspace(4, 298, 100)\n",
    "cte1 = cte_expand(-17.9081289, 67.131914, -118.809316, 109.9845997, -53.8696089, 13.30247491, -1.30843441, 0, 0, temps)\n",
    "plt.plot(temps, cte1)\n",
    "plt.show()"
   ]
  },
  {
   "cell_type": "code",
   "execution_count": 95,
   "metadata": {},
   "outputs": [],
   "source": [
    "# Load the CSV file with proper parsing\n",
    "def csv2cte(filepath):\n",
    "    data = pd.read_csv(filepath, skiprows=1, delim_whitespace=True)\n",
    "\n",
    "    # Extract relevant columns\n",
    "    split_data = data.iloc[:, 0].str.split(',', expand=True)\n",
    "\n",
    "    # Extract the relevant columns\n",
    "    temperatureStr = split_data[0].values\n",
    "    valueStr = split_data[2].values\n",
    "\n",
    "    #convert to float\n",
    "    temperature = temperatureStr.astype(float)\n",
    "    value = valueStr.astype(float)\n",
    "\n",
    "    return temperature, value"
   ]
  },
  {
   "cell_type": "code",
   "execution_count": 106,
   "metadata": {},
   "outputs": [
    {
     "name": "stderr",
     "output_type": "stream",
     "text": [
      "/var/folders/v8/f7ff7bzn66z3q5_fw16grwb80000gn/T/ipykernel_86717/3425989425.py:3: FutureWarning: The 'delim_whitespace' keyword in pd.read_csv is deprecated and will be removed in a future version. Use ``sep='\\s+'`` instead\n",
      "  data = pd.read_csv(filepath, skiprows=1, delim_whitespace=True)\n",
      "/var/folders/v8/f7ff7bzn66z3q5_fw16grwb80000gn/T/ipykernel_86717/3425989425.py:3: FutureWarning: The 'delim_whitespace' keyword in pd.read_csv is deprecated and will be removed in a future version. Use ``sep='\\s+'`` instead\n",
      "  data = pd.read_csv(filepath, skiprows=1, delim_whitespace=True)\n"
     ]
    }
   ],
   "source": [
    "copper_cte = csv2cte('copper.csv')\n",
    "silicon_cte = csv2cte('silicon.csv')"
   ]
  },
  {
   "cell_type": "code",
   "execution_count": 97,
   "metadata": {},
   "outputs": [],
   "source": [
    "def lengthChangeWithTemp(material, cte_data, initL, startT, endT):\n",
    "    temp = np.array(cte_data['temperature'])\n",
    "    cte = np.array(cte_data['cte'])\n",
    "\n",
    "    #interpolate the cte data\n",
    "    cte_interpolated = interp1d(temp, cte, kind='linear', fill_value=\"extrapolate\")\n",
    "    temps = np.linspace(endT, startT, 1000)\n",
    "    cte_int = cte_interpolated(temps)\n",
    "\n",
    "    #change in length\n",
    "    DeltaL = initL * np.trapz(cte_int, temps)\n",
    "\n",
    "    finalL = initL - DeltaL\n",
    "\n",
    "    return finalL, cte_int, temps"
   ]
  },
  {
   "cell_type": "code",
   "execution_count": 108,
   "metadata": {},
   "outputs": [
    {
     "ename": "TypeError",
     "evalue": "tuple indices must be integers or slices, not str",
     "output_type": "error",
     "traceback": [
      "\u001b[0;31m---------------------------------------------------------------------------\u001b[0m",
      "\u001b[0;31mTypeError\u001b[0m                                 Traceback (most recent call last)",
      "Cell \u001b[0;32mIn[108], line 9\u001b[0m\n\u001b[1;32m      7\u001b[0m materials \u001b[38;5;241m=\u001b[39m {\u001b[38;5;124m'\u001b[39m\u001b[38;5;124mcopper\u001b[39m\u001b[38;5;124m'\u001b[39m: copper_cte, \u001b[38;5;124m'\u001b[39m\u001b[38;5;124msilicon\u001b[39m\u001b[38;5;124m'\u001b[39m: silicon_cte}\n\u001b[1;32m      8\u001b[0m \u001b[38;5;28;01mfor\u001b[39;00m material, data \u001b[38;5;129;01min\u001b[39;00m materials\u001b[38;5;241m.\u001b[39mitems():\n\u001b[0;32m----> 9\u001b[0m     finalL, cte, temps \u001b[38;5;241m=\u001b[39m \u001b[43mlengthChangeWithTemp\u001b[49m\u001b[43m(\u001b[49m\u001b[43mmaterial\u001b[49m\u001b[43m,\u001b[49m\u001b[43m \u001b[49m\u001b[43mdata\u001b[49m\u001b[43m,\u001b[49m\u001b[43m \u001b[49m\u001b[43mlength\u001b[49m\u001b[43m,\u001b[49m\u001b[43m \u001b[49m\u001b[43mstartT\u001b[49m\u001b[43m,\u001b[49m\u001b[43m \u001b[49m\u001b[43mendT\u001b[49m\u001b[43m)\u001b[49m\n\u001b[1;32m     10\u001b[0m     plt\u001b[38;5;241m.\u001b[39mplot(temps, cte)\n\u001b[1;32m     11\u001b[0m     \u001b[38;5;28mprint\u001b[39m(material, \u001b[38;5;124m'\u001b[39m\u001b[38;5;124m: \u001b[39m\u001b[38;5;124m'\u001b[39m, finalL, \u001b[38;5;124m'\u001b[39m\u001b[38;5;124m. : \u001b[39m\u001b[38;5;124m'\u001b[39m, \u001b[38;5;241m100\u001b[39m\u001b[38;5;241m-\u001b[39mfinalL\u001b[38;5;241m/\u001b[39mlength\u001b[38;5;241m*\u001b[39m\u001b[38;5;241m100\u001b[39m)\n",
      "Cell \u001b[0;32mIn[97], line 2\u001b[0m, in \u001b[0;36mlengthChangeWithTemp\u001b[0;34m(material, cte_data, initL, startT, endT)\u001b[0m\n\u001b[1;32m      1\u001b[0m \u001b[38;5;28;01mdef\u001b[39;00m \u001b[38;5;21mlengthChangeWithTemp\u001b[39m(material, cte_data, initL, startT, endT):\n\u001b[0;32m----> 2\u001b[0m     temp \u001b[38;5;241m=\u001b[39m np\u001b[38;5;241m.\u001b[39marray(\u001b[43mcte_data\u001b[49m\u001b[43m[\u001b[49m\u001b[38;5;124;43m'\u001b[39;49m\u001b[38;5;124;43mtemperature\u001b[39;49m\u001b[38;5;124;43m'\u001b[39;49m\u001b[43m]\u001b[49m)\n\u001b[1;32m      3\u001b[0m     cte \u001b[38;5;241m=\u001b[39m np\u001b[38;5;241m.\u001b[39marray(cte_data[\u001b[38;5;124m'\u001b[39m\u001b[38;5;124mcte\u001b[39m\u001b[38;5;124m'\u001b[39m])\n\u001b[1;32m      5\u001b[0m     \u001b[38;5;66;03m#interpolate the cte data\u001b[39;00m\n",
      "\u001b[0;31mTypeError\u001b[0m: tuple indices must be integers or slices, not str"
     ]
    }
   ],
   "source": [
    "length = 10 #mm\n",
    "startT = 298 #K\n",
    "endT = 0.1 #K\n",
    "\n",
    "results = []\n",
    "\n",
    "materials = {'copper': copper_cte, 'silicon': silicon_cte}\n",
    "for material, data in materials.items():\n",
    "    finalL, cte, temps = lengthChangeWithTemp(material, data, length, startT, endT)\n",
    "    plt.plot(temps, cte)\n",
    "    print(material, ': ', finalL, '. : ', 100-finalL/length*100)\n",
    "    results.append([material, finalL])"
   ]
  },
  {
   "cell_type": "code",
   "execution_count": null,
   "metadata": {},
   "outputs": [],
   "source": [
    "print(results)"
   ]
  }
 ],
 "metadata": {
  "kernelspec": {
   "display_name": "eth",
   "language": "python",
   "name": "python3"
  },
  "language_info": {
   "codemirror_mode": {
    "name": "ipython",
    "version": 3
   },
   "file_extension": ".py",
   "mimetype": "text/x-python",
   "name": "python",
   "nbconvert_exporter": "python",
   "pygments_lexer": "ipython3",
   "version": "3.10.14"
  }
 },
 "nbformat": 4,
 "nbformat_minor": 2
}
