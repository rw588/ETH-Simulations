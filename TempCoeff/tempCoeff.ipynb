{
 "cells": [
  {
   "cell_type": "code",
   "execution_count": 5,
   "metadata": {},
   "outputs": [],
   "source": [
    "import numpy as np\n",
    "import matplotlib.pyplot as plt\n",
    "import scipy.integrate as integrate\n",
    "import pandas as pd"
   ]
  },
  {
   "cell_type": "code",
   "execution_count": 4,
   "metadata": {},
   "outputs": [],
   "source": [
    "cte_data = {\n",
    "    'Copper': {\n",
    "        'temperature': [0.1, 50, 100, 150, 200, 250, 298],\n",
    "        'cte': [1e-7, 5e-7, 1e-6, 5e-6, 10e-6, 14e-6, 16.5e-6]\n",
    "    },\n",
    "    'Aluminum': {\n",
    "        'temperature': [0.1, 50, 100, 150, 200, 250, 298],\n",
    "        'cte': [2e-7, 8e-7, 2e-6, 10e-6, 15e-6, 20e-6, 23.1e-6]\n",
    "    },\n",
    "    'Steel': {\n",
    "        'temperature': [0.1, 50, 100, 150, 200, 250, 298],\n",
    "        'cte': [1e-7, 4e-7, 8e-7, 3e-6, 7e-6, 10e-6, 11e-6]\n",
    "    },\n",
    "    'Silicon': {\n",
    "        'temperature': [0.1, 50, 100, 150, 200, 250, 298],\n",
    "        'cte': [0, 1e-7, 2e-7, 1e-6, 2e-6, 2.5e-6, 2.6e-6]\n",
    "    }\n",
    "}"
   ]
  },
  {
   "cell_type": "code",
   "execution_count": null,
   "metadata": {},
   "outputs": [],
   "source": [
    "def lengthChangeWithTemp(material, initL, startT, endT):\n",
    "    \n",
    "        \n",
    "\n",
    "\n",
    "    return finalL"
   ]
  },
  {
   "cell_type": "code",
   "execution_count": null,
   "metadata": {},
   "outputs": [],
   "source": [
    "length = 10 #mm\n",
    "startT = 298 #K\n",
    "endT = 0.1 #K\n",
    "\n",
    "for material, data in cte_data.items():\n",
    "    finalL = lengthChangeWithTemp(material, length, startT, endT)\n",
    "    "
   ]
  }
 ],
 "metadata": {
  "kernelspec": {
   "display_name": "eth",
   "language": "python",
   "name": "python3"
  },
  "language_info": {
   "codemirror_mode": {
    "name": "ipython",
    "version": 3
   },
   "file_extension": ".py",
   "mimetype": "text/x-python",
   "name": "python",
   "nbconvert_exporter": "python",
   "pygments_lexer": "ipython3",
   "version": "3.10.14"
  }
 },
 "nbformat": 4,
 "nbformat_minor": 2
}
