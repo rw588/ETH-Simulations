{
 "cells": [
  {
   "cell_type": "code",
   "execution_count": null,
   "metadata": {},
   "outputs": [],
   "source": [
    "import numpy as np\n",
    "import matplotlib.pyplot as plt\n",
    "import scipy.integrate as integrate\n",
    "from scipy.interpolate import interp1d\n",
    "import pandas as pd"
   ]
  },
  {
   "cell_type": "code",
   "execution_count": null,
   "metadata": {},
   "outputs": [],
   "source": [
    "def cte_expand(a, b, c, d, e, f, g, h, i, temp):\n",
    "    power_int = np.array([a, b, c, d, e, f, g, h, i])\n",
    "    T = np.array(temp)\n",
    "    l = np.log10(T)\n",
    "    power = np.zeros(len(T))\n",
    "    for p, i in enumerate(power_int):\n",
    "        power += i * 1e-6 * l**p\n",
    "\n",
    "    print(power)\n",
    "\n",
    "    return 10**power"
   ]
  },
  {
   "cell_type": "code",
   "execution_count": null,
   "metadata": {},
   "outputs": [],
   "source": [
    "temps = np.linspace(4, 298, 100)\n",
    "cte1 = cte_expand(-17.9081289, 67.131914, -118.809316, 109.9845997, -53.8696089, 13.30247491, -1.30843441, 0, 0, temps)\n",
    "plt.plot(temps, cte1)\n",
    "plt.show()"
   ]
  },
  {
   "cell_type": "code",
   "execution_count": 78,
   "metadata": {},
   "outputs": [],
   "source": [
    "# Load the CSV file with proper parsing\n",
    "def csv2cte(filepath):\n",
    "    data = pd.read_csv(filepath, delim_whitespace=True)\n",
    "\n",
    "    # Extract relevant columns\n",
    "    split_data = data.iloc[:, 0].str.split(',', expand=True)\n",
    "\n",
    "    # Extract the relevant columns\n",
    "    temperatureStr = split_data[0].values\n",
    "    valueStr = split_data[2].values\n",
    "\n",
    "    #convert to float\n",
    "    temperature = temperatureStr.astype(float)\n",
    "    value = valueStr.astype(float)\n",
    "\n",
    "    return temperature, value"
   ]
  },
  {
   "cell_type": "code",
   "execution_count": null,
   "metadata": {},
   "outputs": [],
   "source": [
    "copper_cte = csv2cte('copper_cte.csv')\n"
   ]
  },
  {
   "cell_type": "code",
   "execution_count": null,
   "metadata": {},
   "outputs": [],
   "source": [
    "def lengthChangeWithTemp(material, cte_data, initL, startT, endT):\n",
    "    temp = np.array(cte_data['temperature'])\n",
    "    cte = np.array(cte_data['cte'])\n",
    "\n",
    "    #interpolate the cte data\n",
    "    cte_interpolated = interp1d(temp, cte, kind='linear', fill_value=\"extrapolate\")\n",
    "    temps = np.linspace(endT, startT, 1000)\n",
    "    cte_int = cte_interpolated(temps)\n",
    "\n",
    "    #change in length\n",
    "    DeltaL = initL * np.trapz(cte_int, temps)\n",
    "\n",
    "    finalL = initL - DeltaL\n",
    "\n",
    "    return finalL, cte_int, temps"
   ]
  },
  {
   "cell_type": "code",
   "execution_count": null,
   "metadata": {},
   "outputs": [],
   "source": [
    "length = 10 #mm\n",
    "startT = 298 #K\n",
    "endT = 0.1 #K\n",
    "\n",
    "results = []\n",
    "\n",
    "for material, data in cte_data.items():\n",
    "    finalL, cte, temps = lengthChangeWithTemp(material, data, length, startT, endT)\n",
    "    plt.plot(temps, cte)\n",
    "    print(material, ': ', finalL, '. : ', 100-finalL/length*100)\n",
    "    results.append([material, finalL])"
   ]
  },
  {
   "cell_type": "code",
   "execution_count": null,
   "metadata": {},
   "outputs": [],
   "source": [
    "print(results)"
   ]
  }
 ],
 "metadata": {
  "kernelspec": {
   "display_name": "eth",
   "language": "python",
   "name": "python3"
  },
  "language_info": {
   "codemirror_mode": {
    "name": "ipython",
    "version": 3
   },
   "file_extension": ".py",
   "mimetype": "text/x-python",
   "name": "python",
   "nbconvert_exporter": "python",
   "pygments_lexer": "ipython3",
   "version": "3.10.14"
  }
 },
 "nbformat": 4,
 "nbformat_minor": 2
}
